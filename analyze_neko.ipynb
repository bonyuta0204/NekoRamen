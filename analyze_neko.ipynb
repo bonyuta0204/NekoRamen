{
 "cells": [
  {
   "cell_type": "code",
   "execution_count": 17,
   "metadata": {
    "collapsed": true
   },
   "outputs": [],
   "source": [
    "# coding: utf-8\n",
    "import pandas as pd\n",
    "import ScrapingFunctions \n",
    "import pickle\n",
    "\n",
    "from ramen import Post\n",
    "import re\n",
    "\n",
    "import datetime\n",
    "url= \"https://www5.hp-ez.com/hp/haratyan/blog\"\n"
   ]
  },
  {
   "cell_type": "code",
   "execution_count": 40,
   "metadata": {
    "collapsed": true
   },
   "outputs": [],
   "source": [
    "WEAK = [\"Monday\", \"Tuesday\", \"Wednesday\", \"Thursday\", \"Friday\", \"Saturday\", \"Sunday\"]"
   ]
  },
  {
   "cell_type": "code",
   "execution_count": 13,
   "metadata": {},
   "outputs": [],
   "source": [
    "with open(\"all_posts.pickle\", \"rb\") as f:\n",
    "    posts = pickle.load(f)"
   ]
  },
  {
   "cell_type": "code",
   "execution_count": 20,
   "metadata": {},
   "outputs": [
    {
     "name": "stdout",
     "output_type": "stream",
     "text": [
      "Help on class Post in module ramen:\n",
      "\n",
      "class Post(builtins.object)\n",
      " |  Methods defined here:\n",
      " |  \n",
      " |  __init__(self)\n",
      " |      Initialize self.  See help(type(self)) for accurate signature.\n",
      " |  \n",
      " |  check_status(self)\n",
      " |      return if the post means OPEN,  CLOSE,  or SOLD_OUT\n",
      " |  \n",
      " |  set_content(self, content)\n",
      " |  \n",
      " |  set_time(self, post_time)\n",
      " |  \n",
      " |  set_title(self, title)\n",
      " |  \n",
      " |  ----------------------------------------------------------------------\n",
      " |  Data descriptors defined here:\n",
      " |  \n",
      " |  __dict__\n",
      " |      dictionary for instance variables (if defined)\n",
      " |  \n",
      " |  __weakref__\n",
      " |      list of weak references to the object (if defined)\n",
      "\n"
     ]
    }
   ],
   "source": [
    "help(Post)"
   ]
  },
  {
   "cell_type": "code",
   "execution_count": 23,
   "metadata": {},
   "outputs": [
    {
     "name": "stdout",
     "output_type": "stream",
     "text": [
      "no much'\n",
      "\n",
      "\n",
      "すいません。６月2日 営業しております。間違って、営業案内で休みとなってますが、営業しております。\n",
      "\n",
      "no much'\n",
      "\n",
      "\n",
      "すいません。雨漏り激しく、現在、雨漏り入りのラーメンとなってしまうため、撤退いたします。また、宜しくお願いいたします。\n",
      "\n",
      "no much'\n",
      "\n",
      "\n",
      "すいません！ガスのトラブルで、今日は店じまいになります。また、宜しくお願いいたします。\n",
      "\n",
      "no much'\n",
      "\n",
      "\n",
      "１月25日 営業しています。今週はPLはお休みですが、FAカップがありました。チェルシー、シティー、トテナム等が敗れる番狂わせが起こりましたよ！流石FAカップ！油断出来ませんね。でも、これでリバプールがリプレイで勝利すればライバルが負けてくれて云うことなし！なんせFAカップの決勝の日は、今シーズンで退団するジェラードの誕生日！決勝までたどり着いて、ジェラードに優勝カップを掲げてもらいたいです。\n",
      "\n",
      "no much'\n",
      "\n",
      "\n",
      "すいません！本日、売り切れました。また、宜しくお願いいたします。\n",
      "\n",
      "no much'\n",
      "\n",
      "\n",
      "11月9日 今日はベルリンの壁が無くなって25周年。若い人たちはベルリンの壁など知らないかも知れません。東西冷戦の象徴でしたね。第二次大戦後、ソ連がベルリンを分断してから様々な事がありました。ベルリンは東ドイツにあるので、西側にとっては飛び地です。陸路で物資を運ぶことは出来ずに、米軍も威信をかけてベルリンに燃料や食料を空輸で運びました。当時はとても緊張した状態だったのですね。冷戦は終わりましたが、世界では現在でも様々な問題が山積みです。なんとかより良い世界にしたいものですね。\n",
      "\n",
      "no much'\n",
      "\n",
      "\n",
      "すいません！本日、売り切れました。また、宜しくお願いいたします。\n",
      "\n",
      "no much'\n",
      "\n",
      "\n",
      "本日、売り切れました。申し訳ありません。盆休みに入るか、入らないかのこの時機。わりと暇なはずなんですがね。統計によると。何故かの怒濤のラッシュで売り切れてしまいました。もう、矢吹丈のように真っ白な灰な状態です。でも、『立て！立つんだジョー！一緒に涙橋を渡るんだよジョー！』また宜しくお願いいたします。\n",
      "\n",
      "no much'\n",
      "\n",
      "\n",
      "本日、売り切れました。すいません！涼しいって素晴らしい。また宜しくお願いいたします。\n",
      "\n",
      "no much'\n",
      "\n",
      "\n",
      "５月18日 営業しています。今、森見登美彦さんの『ペンギン・ハイウェイ』を読んでいます。主人公の小学生の男の子が言います『怒りそうになったら、おっぱいのことを考えるといいよ。そうすると心がたいへん平和になるんだ』成る程！と思いました。グレート・ギャツビーではニックの父が『人を批判したい時は、思い出してみるといい。世の中の人が皆、自分と同じように恵まれてるわけではなと言う事を』確かこんな事を言ってました。どちらも納得。\n",
      "\n",
      "no much'\n",
      "<div class=\"blogP\" style=\"line-height: 1.6\">\n",
      "\n",
      "「店主ブログ」ページ<a href=\"http://www5.hp-ez.com/hp/haratyan/blog\">http://www5.hp-ez.com/hp/haratyan/blog</a><br/>\n",
      "が満杯になったため、<br/>\n",
      "過去ログを「店主過去ログ」<a href=\"http://www5.hp-ez.com/hp/haratyan/blog1\">http://www5.hp-ez.com/hp/haratyan/blog1</a><br/>\n",
      "へ引越ししました。\n",
      "<div style=\"text-align: right;\">ホームページ管理人</div>\n",
      "\n",
      "</div>\n"
     ]
    }
   ],
   "source": [
    "date_status = [(post.post_time, post.check_status()) for post in posts]"
   ]
  },
  {
   "cell_type": "code",
   "execution_count": 34,
   "metadata": {},
   "outputs": [],
   "source": [
    "data = {}\n",
    "data[\"datetime\"] = [datetime[0] for datetime in date_status  ]\n",
    "data[\"status\"] = [datetime[1] for datetime in date_status  ]\n",
    "data[\"weekday\"] = [day.strftime(\"%A\") for day in data[\"datetime\"]]"
   ]
  },
  {
   "cell_type": "code",
   "execution_count": null,
   "metadata": {},
   "outputs": [],
   "source": []
  },
  {
   "cell_type": "code",
   "execution_count": 39,
   "metadata": {},
   "outputs": [
    {
     "data": {
      "text/html": [
       "<div>\n",
       "<style>\n",
       "    .dataframe thead tr:only-child th {\n",
       "        text-align: right;\n",
       "    }\n",
       "\n",
       "    .dataframe thead th {\n",
       "        text-align: left;\n",
       "    }\n",
       "\n",
       "    .dataframe tbody tr th {\n",
       "        vertical-align: top;\n",
       "    }\n",
       "</style>\n",
       "<table border=\"1\" class=\"dataframe\">\n",
       "  <thead>\n",
       "    <tr style=\"text-align: right;\">\n",
       "      <th></th>\n",
       "      <th>datetime</th>\n",
       "      <th>status</th>\n",
       "      <th>weekday</th>\n",
       "    </tr>\n",
       "  </thead>\n",
       "  <tbody>\n",
       "    <tr>\n",
       "      <th>0</th>\n",
       "      <td>2017-11-09 17:46:56</td>\n",
       "      <td>open</td>\n",
       "      <td>Thursday</td>\n",
       "    </tr>\n",
       "    <tr>\n",
       "      <th>1</th>\n",
       "      <td>2017-11-08 17:16:58</td>\n",
       "      <td>close</td>\n",
       "      <td>Wednesday</td>\n",
       "    </tr>\n",
       "    <tr>\n",
       "      <th>2</th>\n",
       "      <td>2017-11-07 18:00:04</td>\n",
       "      <td>close</td>\n",
       "      <td>Tuesday</td>\n",
       "    </tr>\n",
       "    <tr>\n",
       "      <th>3</th>\n",
       "      <td>2017-11-06 17:51:53</td>\n",
       "      <td>open</td>\n",
       "      <td>Monday</td>\n",
       "    </tr>\n",
       "    <tr>\n",
       "      <th>4</th>\n",
       "      <td>2017-11-05 17:37:14</td>\n",
       "      <td>close</td>\n",
       "      <td>Sunday</td>\n",
       "    </tr>\n",
       "  </tbody>\n",
       "</table>\n",
       "</div>"
      ],
      "text/plain": [
       "             datetime status    weekday\n",
       "0 2017-11-09 17:46:56   open   Thursday\n",
       "1 2017-11-08 17:16:58  close  Wednesday\n",
       "2 2017-11-07 18:00:04  close    Tuesday\n",
       "3 2017-11-06 17:51:53   open     Monday\n",
       "4 2017-11-05 17:37:14  close     Sunday"
      ]
     },
     "execution_count": 39,
     "metadata": {},
     "output_type": "execute_result"
    }
   ],
   "source": [
    "df = pd.DataFrame(data)\n",
    "df.head()"
   ]
  },
  {
   "cell_type": "code",
   "execution_count": 36,
   "metadata": {},
   "outputs": [
    {
     "ename": "AttributeError",
     "evalue": "'Series' object has no attribute 'strftime'",
     "output_type": "error",
     "traceback": [
      "\u001b[1;31m---------------------------------------------------------------------------\u001b[0m",
      "\u001b[1;31mAttributeError\u001b[0m                            Traceback (most recent call last)",
      "\u001b[1;32m<ipython-input-36-daa4bd2c014f>\u001b[0m in \u001b[0;36m<module>\u001b[1;34m()\u001b[0m\n\u001b[1;32m----> 1\u001b[1;33m \u001b[0mdf\u001b[0m\u001b[1;33m[\u001b[0m\u001b[1;34m\"weekday\"\u001b[0m\u001b[1;33m]\u001b[0m \u001b[1;33m=\u001b[0m \u001b[0mdf\u001b[0m\u001b[1;33m[\u001b[0m\u001b[1;34m\"datetime\"\u001b[0m\u001b[1;33m]\u001b[0m\u001b[1;33m.\u001b[0m\u001b[0mstrftime\u001b[0m\u001b[1;33m(\u001b[0m\u001b[1;34m\"%A\"\u001b[0m\u001b[1;33m)\u001b[0m\u001b[1;33m\u001b[0m\u001b[0m\n\u001b[0m",
      "\u001b[1;32m~\\Anaconda3\\envs\\py36\\lib\\site-packages\\pandas\\core\\generic.py\u001b[0m in \u001b[0;36m__getattr__\u001b[1;34m(self, name)\u001b[0m\n\u001b[0;32m   3079\u001b[0m             \u001b[1;32mif\u001b[0m \u001b[0mname\u001b[0m \u001b[1;32min\u001b[0m \u001b[0mself\u001b[0m\u001b[1;33m.\u001b[0m\u001b[0m_info_axis\u001b[0m\u001b[1;33m:\u001b[0m\u001b[1;33m\u001b[0m\u001b[0m\n\u001b[0;32m   3080\u001b[0m                 \u001b[1;32mreturn\u001b[0m \u001b[0mself\u001b[0m\u001b[1;33m[\u001b[0m\u001b[0mname\u001b[0m\u001b[1;33m]\u001b[0m\u001b[1;33m\u001b[0m\u001b[0m\n\u001b[1;32m-> 3081\u001b[1;33m             \u001b[1;32mreturn\u001b[0m \u001b[0mobject\u001b[0m\u001b[1;33m.\u001b[0m\u001b[0m__getattribute__\u001b[0m\u001b[1;33m(\u001b[0m\u001b[0mself\u001b[0m\u001b[1;33m,\u001b[0m \u001b[0mname\u001b[0m\u001b[1;33m)\u001b[0m\u001b[1;33m\u001b[0m\u001b[0m\n\u001b[0m\u001b[0;32m   3082\u001b[0m \u001b[1;33m\u001b[0m\u001b[0m\n\u001b[0;32m   3083\u001b[0m     \u001b[1;32mdef\u001b[0m \u001b[0m__setattr__\u001b[0m\u001b[1;33m(\u001b[0m\u001b[0mself\u001b[0m\u001b[1;33m,\u001b[0m \u001b[0mname\u001b[0m\u001b[1;33m,\u001b[0m \u001b[0mvalue\u001b[0m\u001b[1;33m)\u001b[0m\u001b[1;33m:\u001b[0m\u001b[1;33m\u001b[0m\u001b[0m\n",
      "\u001b[1;31mAttributeError\u001b[0m: 'Series' object has no attribute 'strftime'"
     ]
    }
   ],
   "source": [
    "weak_analysis\n",
    "for day in WEAK:\n",
    "    week_analysis.append(df.loc)"
   ]
  },
  {
   "cell_type": "code",
   "execution_count": null,
   "metadata": {
    "collapsed": true
   },
   "outputs": [],
   "source": []
  }
 ],
 "metadata": {
  "kernelspec": {
   "display_name": "py36",
   "language": "python",
   "name": "py36"
  },
  "language_info": {
   "codemirror_mode": {
    "name": "ipython",
    "version": 3
   },
   "file_extension": ".py",
   "mimetype": "text/x-python",
   "name": "python",
   "nbconvert_exporter": "python",
   "pygments_lexer": "ipython3",
   "version": "3.6.2"
  }
 },
 "nbformat": 4,
 "nbformat_minor": 2
}
